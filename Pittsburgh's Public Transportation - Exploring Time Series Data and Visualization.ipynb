{
 "cells": [
  {
   "cell_type": "markdown",
   "metadata": {},
   "source": [
    "# Pittsburgh's Public Transportation: Exploring Time Series Data and Visualization\n",
    "## Author: Hexing Ren\n",
    "### Click [here](http://www.hexingren.com/practical-data-science) to go back."
   ]
  },
  {
   "cell_type": "markdown",
   "metadata": {},
   "source": [
    "# Introduction\n",
    "\n",
    "In this project we will be analysing time series data. Specifically, the data that we will be working with has been collecting via Pittsburgh's TrueTime system which is available publicly here http://truetime.portauthority.org/bustime/login.jsp."
   ]
  },
  {
   "cell_type": "markdown",
   "metadata": {},
   "source": [
    "## Part 1 The TrueTime Dataset\n",
    "\n",
    "The bus data has been collected by querying the TrueTime API every minute. Each time, we make two requests: \n",
    "\n",
    "1. We request vehicle information for every bus running on the 61A, 61B, 61C, and 61D bus routes. \n",
    "2. We request all available time predictions for the CMU / Morewood bus stop in both outbound and inbound directions. \n",
    "\n",
    "The results are given as XML, which are consequently parsed and stored within a sqlite database with two tables, one for vehicles and one for predictions. The table for the vehicles is organized in the following manner.  \n",
    "\n",
    "| | **vehicles**             | \n",
    "|----------|-------------|\n",
    "| vid      | vehicle identifier |\n",
    "| tmstmp | date and time of the last positional update of the vehicle |\n",
    "| lat | latitude position of the vehicle in decimal degrees |\n",
    "| lon | longitude position of the vehicle in decimal degrees |\n",
    "| hdg | heading of vehicle as a 360 degree value (0 is north, 90 is east, 180 is south, and 270 is west |\n",
    "| pid | pattern ID of trip currently being executed | \n",
    "| rt | route that is currently being execute | \n",
    "| des | destination of the current trip | \n",
    "| pdist | linear distance (feet) vehicle has traveled into the current pattern |\n",
    "|  spd | speed as reported from the vehicle in miles per hour | \n",
    "| tablockid | TA's version of the scheduled block identifier for work currently behind performed |\n",
    "| tatripid | TA's version of the scheduled trip identifier for the vehicle's current trip |\n",
    "\n",
    "The table for the predictions is organized in the following manner\n",
    "\n",
    "| | **predictions** | \n",
    "|---|---|\n",
    "| tmstmp | date and time the prediction was generated |\n",
    "| typ | type of prediction (A for arrival, D for a departure) | \n",
    "| stpnm | display name of the stop for which this prediction was generated |\n",
    "| stpid | unique identifier representing the stop for which this prediction was generated |\n",
    "| vid | unique ID of the vehicle for which this prediction was generated |\n",
    "| dstp | linear distance (feet) left to be traveled by the vehicle before it reaches the stop for which this prediction was generated |\n",
    "| rt | route for which this prediction was generated | \n",
    "| rtdd | language-specific route designator meant for display |\n",
    "| rtdir | direction of travel of the route associated with this prediction |\n",
    "| des | final destination of the vehicle associated with this prediction |\n",
    "| prdtm | predicted date and time of a vehicle's arrival or departure to the stop associated with this prediction | \n",
    "| dly | true if the vehicle is delayed, only present if the vehicle that generated this prediction is delayed | \n",
    "| tablockid | TA's version of the scheduled block identifier for work currently behind performed |\n",
    "| tatripid | TA's version of the scheduled trip identifier for the vehicle's current trip |\n",
    "    "
   ]
  },
  {
   "cell_type": "markdown",
   "metadata": {},
   "source": [
    "First we will need to read in the data. Since the raw form of the data has been dumped into a sqlite database, we can read them directly into a pandas dataframe. However, we still need to fix and canonicalize a few things.\n",
    "\n",
    "### Specification\n",
    "\n",
    "1. Sometimes the TrueTime API returns a bogus result that has all the attributes but empty strings for all the values. We should inspect the data for clearly useless entries and remove all offending rows. \n",
    "\n",
    "2. If we check the datatype of each column, we'll notice that most columns are stored as objects. However, some of these columns are in fact integers or floats, and if we want to run numerical functions on them (like numpy) we'll need to convert the columns to the correct type. Note that strings show up as objects. This is because the underlying implementation of Pandas uses numpy arrays, which need fixed-size entries, so they store pointers to strings. The dataframe datatypes should match the following order and types (the datatypes may be 32bit instead of 64bit depending on the platform):\n",
    "\n",
    "   ```python\n",
    "   >>> vdf.dtypes\n",
    "   vid                   int64\n",
    "   tmstmp       datetime64[ns]\n",
    "   lat                 float64\n",
    "   lon                 float64\n",
    "   hdg                   int64\n",
    "   pid                   int64\n",
    "   rt                   object\n",
    "   des                  object\n",
    "   pdist                 int64\n",
    "   spd                   int64\n",
    "   tablockid            object\n",
    "   tatripid              int64\n",
    "   dtype: object\n",
    "\n",
    "   >>> pdf.dtypes\n",
    "   tmstmp       datetime64[ns]\n",
    "   typ                  object\n",
    "   stpnm                object\n",
    "   stpid                 int64\n",
    "   vid                   int64\n",
    "   dstp                  int64\n",
    "   rt                   object\n",
    "   rtdd                 object\n",
    "   rtdir                object\n",
    "   des                  object\n",
    "   prdtm        datetime64[ns]\n",
    "   dly                    bool\n",
    "   tablockid            object\n",
    "   tatripid              int64\n",
    "   dtype: object\n",
    "   ```\n",
    "\n",
    "3. As you may have noticed from the above data types, you should convert all timestamps to Pandas datetime objects. "
   ]
  },
  {
   "cell_type": "code",
   "execution_count": 1,
   "metadata": {
    "collapsed": false
   },
   "outputs": [],
   "source": [
    "import pandas as pd\n",
    "import sqlite3"
   ]
  },
  {
   "cell_type": "code",
   "execution_count": 2,
   "metadata": {
    "collapsed": false,
    "scrolled": false
   },
   "outputs": [],
   "source": [
    "def load_data(fname):\n",
    "    \"\"\" Read the given database into two pandas dataframes. \n",
    "    \n",
    "    Args: \n",
    "        fname (string): filename of sqlite3 database to read\n",
    "        \n",
    "    Returns:\n",
    "        (pd.DataFrame, pd.DataFrame): a tuple of two dataframes, the first for the vehicle data and the \n",
    "                                      second for the prediction data. \n",
    "    \"\"\"\n",
    "    conn = sqlite3.connect(fname)\n",
    "    vdf = pd.read_sql_query(\"SELECT * FROM vehicles WHERE vid != ''\", conn)\n",
    "    vdf['vid'] = vdf['vid'].astype('int')\n",
    "    vdf['tmstmp'] = pd.to_datetime(vdf['tmstmp'])\n",
    "    \n",
    "    pdf = pd.read_sql_query(\"SELECT * FROM predictions WHERE tmstmp != ''\", conn)\n",
    "    pdf['tmstmp'] = pd.to_datetime(pdf['tmstmp'])\n",
    "    pdf['prdtm'] = pd.to_datetime(pdf['prdtm'])\n",
    "    pdf['dly'] = pdf['dly'].astype('bool')\n",
    "    conn.close()\n",
    "    return (vdf, pdf)"
   ]
  },
  {
   "cell_type": "code",
   "execution_count": 3,
   "metadata": {
    "collapsed": false,
    "scrolled": true
   },
   "outputs": [
    {
     "name": "stdout",
     "output_type": "stream",
     "text": [
      "vid                   int64\n",
      "tmstmp       datetime64[ns]\n",
      "lat                 float64\n",
      "lon                 float64\n",
      "hdg                   int64\n",
      "pid                   int64\n",
      "rt                   object\n",
      "des                  object\n",
      "pdist                 int64\n",
      "spd                   int64\n",
      "tablockid            object\n",
      "tatripid              int64\n",
      "dtype: object\n",
      "tmstmp       datetime64[ns]\n",
      "typ                  object\n",
      "stpnm                object\n",
      "stpid                 int64\n",
      "vid                   int64\n",
      "dstp                  int64\n",
      "rt                   object\n",
      "rtdd                 object\n",
      "rtdir                object\n",
      "des                  object\n",
      "prdtm        datetime64[ns]\n",
      "dly                    bool\n",
      "tablockid            object\n",
      "tatripid              int64\n",
      "dtype: object\n",
      "215473 143345\n",
      "    vid              tmstmp        lat        lon  hdg   pid   rt        des  \\\n",
      "0  5549 2016-08-11 10:56:00  40.439504 -79.996981  114  4521  61A  Swissvale   \n",
      "1  5287 2016-08-11 10:56:00  40.438016 -79.927380   83  4521  61A  Swissvale   \n",
      "2  6114 2016-08-11 10:56:00  40.418897 -79.883970  128  4521  61A  Swissvale   \n",
      "3  5646 2016-08-11 10:56:00  40.441155 -79.892990  274  4663  61A   Downtown   \n",
      "4  5443 2016-08-11 10:56:00  40.436370 -79.968362  269  4663  61A   Downtown   \n",
      "\n",
      "   pdist  spd tablockid  tatripid  \n",
      "0   1106    0  061A-164      6691  \n",
      "1  22921   20  061A-163      6687  \n",
      "2  48014   12  061A-162      6683  \n",
      "3  15953   23  061A-166      6433  \n",
      "4  40770   30  061A-165      6430  \n",
      "               tmstmp typ                         stpnm  stpid   vid   dstp  \\\n",
      "0 2016-08-11 10:56:00   A   Forbes Ave opp Morewood Ave   7117  3201    398   \n",
      "1 2016-08-11 10:56:00   A  Forbes Ave past Morewood Ave   4407  6121   8004   \n",
      "2 2016-08-11 10:56:00   A  Forbes Ave past Morewood Ave   4407  3244  13925   \n",
      "3 2016-08-11 10:56:00   A   Forbes Ave opp Morewood Ave   7117  3202  11981   \n",
      "4 2016-08-11 10:56:00   A   Forbes Ave opp Morewood Ave   7117  3249  14013   \n",
      "\n",
      "    rt rtdd     rtdir                des               prdtm    dly tablockid  \\\n",
      "0  61D  61D  OUTBOUND  Murray-Waterfront 2016-08-11 10:57:00  False  061D-276   \n",
      "1  61C  61C   INBOUND           Downtown 2016-08-11 11:05:00  False  061C-232   \n",
      "2  61B  61B   INBOUND           Downtown 2016-08-11 11:08:00  False  061B-196   \n",
      "3  61B  61B  OUTBOUND          Braddock  2016-08-11 11:09:00  False  061B-195   \n",
      "4  61C  61C  OUTBOUND        McKeesport  2016-08-11 11:10:00  False  061C-229   \n",
      "\n",
      "   tatripid  \n",
      "0      6688  \n",
      "1      7377  \n",
      "2      5744  \n",
      "3      6689  \n",
      "4      6690  \n"
     ]
    }
   ],
   "source": [
    "# AUTOLAB_IGNORE_START\n",
    "vdf, pdf = load_data('bus_aug23.db')\n",
    "\n",
    "# print len(vdf), len(pdf)\n",
    "# print vdf.iloc[:200, :12]\n",
    "\n",
    "# Inspect the datatypes of the dataframe\n",
    "print vdf.dtypes\n",
    "print pdf.dtypes\n",
    "\n",
    "print len(vdf), len(pdf)\n",
    "\n",
    "# Inspect the first five entries of the dataframe\n",
    "print vdf.head()\n",
    "print pdf.head()\n",
    "# AUTOLAB_IGNORE_STOP"
   ]
  },
  {
   "cell_type": "markdown",
   "metadata": {},
   "source": [
    "## Part 2 Splitting Trips\n",
    "\n",
    "For this task, we will focus on the vehicles dataframe and come back to the predictions later. The next thing we will do is take the dataframe of vehicles and and split it into individual trips. Specifically, a trip is the sequence of rows corresponding to a single bus, typically at one minute intervals, from the start of its route to the end of its route. We will represent each trip as an individual dataframe, and create a list of dataframes for each trip. \n",
    "\n",
    "### Specification\n",
    "1. All entries in a trip should belong to a single route, destination, pattern, and bus. \n",
    "\n",
    "2. The entries in a trip should have (not strictly) monotonically increasing timestamps and distance traveled. \n",
    "\n",
    "3. Each trip should be of maximal size. I.e. we should sort first by time, and secondarily by pdist, and use a drop in a pdist as an indication that a new trip has started. \n",
    "\n",
    "3. Each trip should have the timestamp set as the index, named `tmstmp`"
   ]
  },
  {
   "cell_type": "code",
   "execution_count": 4,
   "metadata": {
    "collapsed": false
   },
   "outputs": [
    {
     "name": "stderr",
     "output_type": "stream",
     "text": [
      "/anaconda/lib/python2.7/site-packages/ipykernel/__main__.py:13: SettingWithCopyWarning: \n",
      "A value is trying to be set on a copy of a slice from a DataFrame\n",
      "\n",
      "See the caveats in the documentation: http://pandas.pydata.org/pandas-docs/stable/indexing.html#indexing-view-versus-copy\n"
     ]
    }
   ],
   "source": [
    "def split_trips(df):\n",
    "    \"\"\" Splits the dataframe of vehicle data into a list of dataframes for each individual trip.\n",
    "\n",
    "    Args:\n",
    "        df (pd.DataFrame): A dataframe containing TrueTime bus data\n",
    "\n",
    "    Returns:\n",
    "        (list): A list of dataframes, where each dataFrame contains TrueTime bus data for a single bus running a\n",
    "    \"\"\"\n",
    "# AUTOLAB_IGNORE_START \n",
    "# spec1: a single route, destination, pattern, and bus\n",
    "# AUTOLAB_IGNORE_STOP\n",
    "    df.sort_values(by=['rt', 'des', 'pid', 'vid', 'tmstmp'], ascending=True, inplace=True)\n",
    "    trips = list()\n",
    "# AUTOLAB_IGNORE_START \n",
    "# start\n",
    "# AUTOLAB_IGNORE_STOP\n",
    "    s = 0\n",
    "    start = df.iloc[0]\n",
    "    prev_vid, prev_pid, prev_rt, prev_des, prev_pdist = start['vid'], start['pid'], start['rt'], start['des'], start['pdist']\n",
    "    \n",
    "    for i in range(len(df.index)):\n",
    "        pres = df.iloc[i]\n",
    "        pres_vid, pres_pid, pres_rt, pres_des, pres_pdist = pres['vid'], pres['pid'], pres['rt'], pres['des'], pres['pdist']\n",
    "# AUTOLAB_IGNORE_START         \n",
    "#         if pres_pdist < prev_pdist:\n",
    "# AUTOLAB_IGNORE_STOP\n",
    "        if pres_vid != prev_vid or pres_pid != prev_pid or pres_rt != prev_rt or pres_des != prev_des or \\\n",
    "        pres_pdist < prev_pdist:\n",
    "            trip_df = df[s:i]\n",
    "            trips.append(trip_df)\n",
    "            s = i\n",
    "\n",
    "        prev_vid, prev_pid, prev_rt, prev_des, prev_pdist = pres_vid, pres_pid, pres_rt, pres_des, pres_pdist\n",
    "    \n",
    "    trip_df = df[s:]\n",
    "    trips.append(trip_df)\n",
    "    \n",
    "    return trips\n",
    "\n",
    "# AUTOLAB_IGNORE_START    \n",
    "all_trips = { rt : split_trips(vdf[vdf[\"rt\"]==rt]) for rt in [\"61A\", \"61B\", \"61C\", \"61D\"] }\n",
    "# AUTOLAB_IGNORE_STOP"
   ]
  },
  {
   "cell_type": "code",
   "execution_count": 5,
   "metadata": {
    "collapsed": false
   },
   "outputs": [],
   "source": [
    "# Test the validity of your code here\n",
    "# AUTOLAB_IGNORE_START\n",
    "# print [(t,len(all_trips[t])) for t in all_trips]\n",
    "# AUTOLAB_IGNORE_STOP"
   ]
  },
  {
   "cell_type": "markdown",
   "metadata": {},
   "source": [
    "## Part 3 Sliding Averages\n",
    "\n",
    "Let's compute a basic statistic for time series / sequential data, which is the sliding average. Sliding averages are typically used to smooth out short-term fluctuations to see the long-term patterns. \n",
    "\n",
    "While it would be fairly simple to directly construct a list of all the sliding averages from the existing dataset, in reality, new TrueTime bus data is constantly being available every day. Thus, instead of storing an unbounded list of datapoints, we instead will construct a class which does constant time updates as new data comes in. \n",
    "\n",
    "### Specifications\n",
    "1. The function should not use more than O(k) memory. \n",
    "2. Each update should do O(1) work. \n",
    "3. We will use a centered sliding average: we will average the k values both before and after, averaging a total of 2k+1 elements. Note that k=0 will just return the stream without any averaging. \n",
    "4. Since the average depends on both past and future elements, the `update` function will not be able to output anything useful for the first k elements. We should output `None` during these iterations. We should also signify the end of the stream by calling `update(None)` k times, during which we output the last k sliding averages. \n",
    "4. When at the beginning or end of a list, just compute the average of elements that exist. \n",
    "5. As usual, we should test the correctness of the code. We can do this in the same cell or make a new cell.\n",
    "\n",
    "Note: the `collections.deque` data structure might be helpful. \n",
    "\n",
    "Example: \n",
    "```python\n",
    ">>> compute_sliding_averages(pd.Series([1,2,3,4,5]),1)\n",
    "pdf.Series([1.5, 2.0, 3.0, 4.0, 4.5])\n",
    "```"
   ]
  },
  {
   "cell_type": "code",
   "execution_count": 6,
   "metadata": {
    "collapsed": false,
    "scrolled": true
   },
   "outputs": [],
   "source": [
    "from collections import deque\n",
    "\n",
    "class SlidingAverage:\n",
    "    def __init__(self,k):\n",
    "        \"\"\" Initializes a sliding average calculator which keeps track of the average of the last k seen elements.\n",
    "\n",
    "        Args:\n",
    "            k (int): the number of elements to average (the half-width of the sliding average window)\n",
    "        \"\"\"\n",
    "        self.avg = 0\n",
    "        self.cnt = -1\n",
    "        self.half_width = k\n",
    "        self.width = 2 * k + 1\n",
    "        self.queue = deque()\n",
    "\n",
    "    def update(self,x):\n",
    "\n",
    "        \"\"\" Computes the sliding average after having seen element x\n",
    "\n",
    "        Args:\n",
    "            x (float): the next element in the stream to view\n",
    "\n",
    "        Returns:\n",
    "            (float): the new sliding average after having seen element x, if it can be calculated\n",
    "        \"\"\"\n",
    "        self.cnt = self.cnt + 1\n",
    "        prevlen = len(self.queue)\n",
    "        \n",
    "        if x != None:\n",
    "            self.queue.append(float(x))\n",
    "            if self.cnt >= self.width:\n",
    "                self.avg = (prevlen * self.avg - self.queue.popleft() + float(x)) / prevlen\n",
    "                return self.avg\n",
    "            elif self.cnt >= self.half_width:\n",
    "                self.avg = (prevlen * self.avg + float(x)) / (prevlen + 1)\n",
    "                return self.avg\n",
    "            else:\n",
    "                self.avg = (prevlen * self.avg + float(x)) / (prevlen + 1)\n",
    "                return None\n",
    "        else:\n",
    "            if self.cnt >= self.width:\n",
    "                self.avg = (prevlen * self.avg - self.queue.popleft()) / (prevlen - 1)\n",
    "                return self.avg\n",
    "            elif self.cnt >= self.half_width:\n",
    "                return self.avg\n",
    "            else:\n",
    "                return None\n",
    "    \n",
    "def compute_sliding_averages(s, k):\n",
    "    \"\"\" Computes the sliding averages for a given Pandas series using the SlidingAverage class.\n",
    "\n",
    "    Args:\n",
    "        s (pd.Series): a Pandas series for which the sliding average needs to be calculated\n",
    "        k (int): the half-width of the sliding average window\n",
    "\n",
    "    Returns:\n",
    "        (pd.Series): a Pandas series of the sliding averages\n",
    "\n",
    "    \"\"\"\n",
    "    sAvg = SlidingAverage(k)\n",
    "    l = list()\n",
    "    \n",
    "    for si in s:\n",
    "        avg = sAvg.update(si)\n",
    "        if avg != None:\n",
    "            l.append(avg)\n",
    "    for i in range(k):\n",
    "        avg = sAvg.update(None)\n",
    "        if avg != None:\n",
    "            l.append(avg)\n",
    "    \n",
    "    return pd.Series(l)  \n",
    "\n",
    "# Test the code!\n",
    "# print(compute_sliding_averages(pd.Series([1,2,3,4,5]),6))"
   ]
  },
  {
   "cell_type": "markdown",
   "metadata": {},
   "source": [
    "## Part 4 Time Series Visualizations\n",
    "\n",
    "Time series data is typically displayed as signals over time. For example, this could be the speed of the bus over time, or the number of minutes behind or ahead of schedule a bus is. "
   ]
  },
  {
   "cell_type": "code",
   "execution_count": 7,
   "metadata": {
    "collapsed": false
   },
   "outputs": [
    {
     "name": "stderr",
     "output_type": "stream",
     "text": [
      "//anaconda/lib/python2.7/site-packages/matplotlib/font_manager.py:273: UserWarning: Matplotlib is building the font cache using fc-list. This may take a moment.\n",
      "  warnings.warn('Matplotlib is building the font cache using fc-list. This may take a moment.')\n"
     ]
    }
   ],
   "source": [
    "import time\n",
    "import matplotlib\n",
    "# Use svg backend for better quality\n",
    "# AUTOLAB_IGNORE_START\n",
    "matplotlib.use(\"svg\")\n",
    "# AUTOLAB_IGNORE_STOP\n",
    "import matplotlib.pyplot as plt\n",
    "# AUTOLAB_IGNORE_START\n",
    "%matplotlib inline\n",
    "plt.style.use('ggplot')\n",
    "matplotlib.rcParams['figure.figsize'] = (10.0, 5.0) # you should adjust this to fit your screen\n",
    "# AUTOLAB_IGNORE_STOP"
   ]
  },
  {
   "cell_type": "markdown",
   "metadata": {},
   "source": [
    "As the first example, we'll plot the speed of the bus as a function of time. Here, we'll overlay multiple routes on a single plot. How can we determine the direction of the bus (to or away from downtown) from the signal? \n",
    "\n",
    "### Specification:\n",
    "1. Plot the sliding average speed of each bus, using a new line for each bus. \n",
    "2. Return a list of the resulting `Line2D` objects plot. The order of the line objects should correspond with the order of the trips. \n",
    "3. Do not call `plt.show()` inside the function. Autolab will not X out of any plotted images. \n",
    "4. We want to plot the bus as a function of time, and not of datetime (these are different python types) which is the index of the dataframe. We can get the time with df.index.time. "
   ]
  },
  {
   "cell_type": "code",
   "execution_count": 8,
   "metadata": {
    "collapsed": false,
    "scrolled": true
   },
   "outputs": [
    {
     "name": "stdout",
     "output_type": "stream",
     "text": [
      "[<matplotlib.lines.Line2D object at 0x122348490>, <matplotlib.lines.Line2D object at 0x1223487d0>, <matplotlib.lines.Line2D object at 0x122348910>, <matplotlib.lines.Line2D object at 0x122348b10>, <matplotlib.lines.Line2D object at 0x122348d50>, <matplotlib.lines.Line2D object at 0x122348f90>, <matplotlib.lines.Line2D object at 0x121c96210>, <matplotlib.lines.Line2D object at 0x121c96450>, <matplotlib.lines.Line2D object at 0x121c96690>, <matplotlib.lines.Line2D object at 0x121c968d0>, <matplotlib.lines.Line2D object at 0x121c96b10>, <matplotlib.lines.Line2D object at 0x121c96d50>, <matplotlib.lines.Line2D object at 0x121c96f90>, <matplotlib.lines.Line2D object at 0x121b16210>, <matplotlib.lines.Line2D object at 0x121b16450>, <matplotlib.lines.Line2D object at 0x121b16690>, <matplotlib.lines.Line2D object at 0x121b168d0>, <matplotlib.lines.Line2D object at 0x121b16b10>, <matplotlib.lines.Line2D object at 0x121b16d50>, <matplotlib.lines.Line2D object at 0x121b16f90>]\n"
     ]
    }
   ],
   "source": [
    "def plot_trip(trips, k):\n",
    "    \"\"\" Plots the sliding average speed as a function of time \n",
    "    \n",
    "    Args: \n",
    "        trip (list): list of trip DataFrames to plot\n",
    "        k (int): the half-width of the sliding average window\n",
    "    \"\"\"\n",
    "    \n",
    "    l = list()\n",
    "    for trip in trips:\n",
    "        trip = trip.reset_index()\n",
    "        t = [tt.time() for tt in trip['tmstmp']]\n",
    "        spd = (compute_sliding_averages(trip['spd'], k)).tolist()\n",
    "        l.append(matplotlib.lines.Line2D(t, spd))\n",
    "    return l\n",
    "\n",
    "# AUTOLAB_IGNORE_START   \n",
    "# Play around with these values. Can you differentiate the buses going towards downtown from the buses going away from downtown?\n",
    "lines = plot_trip(all_trips['61A'][:20], 15)\n",
    "print(lines)\n",
    "plt.show()\n",
    "# AUTOLAB_IGNORE_STOP"
   ]
  },
  {
   "cell_type": "markdown",
   "metadata": {
    "collapsed": false,
    "scrolled": true
   },
   "source": [
    "We can also gain information from overall trends from averaging many data points. In the following function, we will plot the average speed of all buses at regular time intervals throughout the day. \n",
    "\n",
    "### Specification\n",
    "1. We should group the rows of the dataframe by taking the timestamp and subtracting its value modulo t minutes and ignoring the day/month/year (since the data was collected at 1 minute intervals, this means that t=1 corresponds to averaging one entry per day recorded).\n",
    "2. Return the PathCollection object of the plot. For example, if we create the plot using the matplotlib command `scatter(...)`, return the result of this function call. \n",
    "3. Do not call `plt.show()` inside the function. Autolab will not X out of any plotted images. "
   ]
  },
  {
   "cell_type": "code",
   "execution_count": 9,
   "metadata": {
    "collapsed": false,
    "scrolled": false
   },
   "outputs": [
    {
     "data": {
      "image/png": "[encoded data removed]",
      "text/plain": [
       "<matplotlib.figure.Figure at 0x1172bfc90>"
      ]
     },
     "metadata": {},
     "output_type": "display_data"
    }
   ],
   "source": [
    "import datetime\n",
    "\n",
    "def plot_avg_spd(df, t):\n",
    "    \"\"\" Plot the average speed of all recorded buses within t minute intervals \n",
    "    Args: \n",
    "        df (pd.DataFrame): dataframe of bus data\n",
    "        t (int): the granularity of each time period (in minutes) for which an average is speed is calculated\n",
    "    \"\"\"\n",
    "    df['tmmin'] = df['tmstmp'].map(lambda i : (60 * i.hour + i.minute) / t)\n",
    "    df = df.reset_index()\n",
    "    spd_df = df.groupby('tmmin').mean()\n",
    "    tmin = [datetime.time(t * j / 60, t * j % 60) for j in spd_df.index.tolist()]\n",
    "    return plt.scatter(tmin, spd_df['spd'].tolist())\n",
    "\n",
    "# AUTOLAB_IGNORE_START\n",
    "s = plot_avg_spd(vdf, 10)\n",
    "plt.show()\n",
    "# AUTOLAB_IGNORE_STOP"
   ]
  },
  {
   "cell_type": "markdown",
   "metadata": {},
   "source": [
    "## Author: Hexing Ren\n",
    "### Click [here](http://www.hexingren.com/practical-data-science) to go back."
   ]
  }
 ],
 "metadata": {
  "anaconda-cloud": {},
  "kernelspec": {
   "display_name": "Python [conda root]",
   "language": "python",
   "name": "conda-root-py"
  },
  "language_info": {
   "codemirror_mode": {
    "name": "ipython",
    "version": 2
   },
   "file_extension": ".py",
   "mimetype": "text/x-python",
   "name": "python",
   "nbconvert_exporter": "python",
   "pygments_lexer": "ipython2",
   "version": "2.7.12"
  }
 },
 "nbformat": 4,
 "nbformat_minor": 0
}
