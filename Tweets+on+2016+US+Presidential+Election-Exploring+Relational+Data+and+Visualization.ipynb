{
 "cells": [
  {
   "cell_type": "markdown",
   "metadata": {},
   "source": [
    "# Tweets on 2016 US Presidential Election: Exploring Relational Data and Visualization\n",
    "## Author: Hexing Ren\n",
    "### Click [here](http://www.hexingren.com/practical-data-science) to go back."
   ]
  },
  {
   "cell_type": "code",
   "execution_count": 1,
   "metadata": {
    "collapsed": false
   },
   "outputs": [],
   "source": [
    "import csv\n",
    "import sqlite3\n",
    "import pandas as pd\n",
    "import math\n",
    "# Use svg backend for better quality\n",
    "import matplotlib\n",
    "# AUTOLAB_IGNORE_START\n",
    "matplotlib.use(\"svg\")\n",
    "# AUTOLAB_IGNORE_STOP\n",
    "import matplotlib.pyplot as plt\n",
    "# AUTOLAB_IGNORE_START\n",
    "%matplotlib inline\n",
    "plt.style.use('ggplot')\n",
    "matplotlib.rcParams['figure.figsize'] = (10.0, 5.0) # adjust this to fit your screen\n",
    "# AUTOLAB_IGNORE_STOP"
   ]
  },
  {
   "cell_type": "markdown",
   "metadata": {},
   "source": [
    "In this problem, we will be analyzing the Twitter data we extracted using [this](https://dev.twitter.com/overview/api) api. The data consists of Twitter users (with unique handles) and their attributes (e.g., number of followers), some recent tweets posted by them with attributes (e.g., time stamp, number of retweets), and the follow relationship between the users. These are available in the three CSV files:\n",
    "- users.csv - users, user attributes\n",
    "- edges.csv - follow edges (directed, an edge from A to B means A follows B or B is a friend of A)\n",
    "- tweets.csv - tweets posted by the users along with its attributes"
   ]
  },
  {
   "cell_type": "markdown",
   "metadata": {},
   "source": [
    "## Q1. Relational Data\n",
    "This question will guide us through loading Twitter data into an in-memory SQLite database and running some basic queries on it."
   ]
  },
  {
   "cell_type": "markdown",
   "metadata": {},
   "source": [
    "### Q1. Task A: Load Twitter data into SQLite database\n",
    "The task is to use the csv and sqlite3 python packages to load the three csv files as relations (or tables) into an SQLite in-memory database.\n",
    "\n",
    "Loading the data from csv file into the database involves the following steps:\n",
    "1. Identify the schema of the table (for this problem, TEXT and INTEGER attribute types)\n",
    "2. Create a table with the identified schema\n",
    "3. Load the contents of csv in memory\n",
    "4. Insert every row of csv file as a record in the table\n",
    "\n",
    "We can refer to [sqlite3 documentation](https://docs.python.org/2/library/sqlite3.html) for steps 2 and 4. For step 3, refer to the [csv documentation](https://docs.python.org/2/library/csv.html). Be sure to name the tables `users`, `edges`, and `tweets`. \n",
    "\n",
    "Make sure to commit (the equivalent of Ctrl+S for databases) any changes made to the database. [This](https://www.techopedia.com/definition/16/commit) page should give us an idea about why commit is essential."
   ]
  },
  {
   "cell_type": "code",
   "execution_count": 2,
   "metadata": {
    "collapsed": false
   },
   "outputs": [],
   "source": [
    "def load_twitter_data_sqlite3(conn, users_filepath, edges_filepath, tweets_filepath) :\n",
    "    \"\"\" Load twitter data in the three files as tables into an in-memory SQLite database\n",
    "    Input:\n",
    "        conn (sqlite3.Connection) : Connection object corresponding to the database; used to perform SQL commands.\n",
    "        users_filepath (str) : absolute/relative path to users.csv file\n",
    "        edges_filepath (str) : absolute/relative path to edges.csv file\n",
    "        tweets_filepath (str) : absolute/relative path to tweets.csv file\n",
    "    Output:\n",
    "        None\n",
    "    \"\"\"\n",
    "    c = conn.cursor()\n",
    "    c.execute('''CREATE TABLE users\n",
    "                 (name text, screen_name text, location text, created_at text, friends_count integer, \n",
    "                 followers_count integer, statuses_count integer, favourites_count integer)''')\n",
    "    c.execute('''CREATE TABLE edges\n",
    "                 (screen_name text, friend text)''')\n",
    "    c.execute('''CREATE TABLE tweets\n",
    "                 (screen_name text, created_at text, retweet_count integer, favorite_count integer, text text)''')\n",
    "    list_users = [ ]\n",
    "    list_edges = [ ]\n",
    "    list_tweets = [ ]\n",
    "    with open(users_filepath, 'rb') as users:\n",
    "        reader_users = csv.reader(users)\n",
    "        for row_users in reader_users:\n",
    "            list_users.append(tuple(row_users))\n",
    "        list_users.pop(0)\n",
    "        #print len(list_users)\n",
    "        c.executemany(\"INSERT INTO users VALUES (?,?,?,?,?,?,?,?)\", list_users)\n",
    "    with open(edges_filepath, 'rb') as edges:\n",
    "        reader_edges = csv.reader(edges)\n",
    "        for row_edges in reader_edges:\n",
    "            list_edges.append(tuple(row_edges))\n",
    "        list_edges.pop(0)\n",
    "        #print len(list_edges)\n",
    "        c.executemany(\"INSERT INTO edges VALUES (?,?)\", list_edges)\n",
    "    with open(tweets_filepath, 'rb') as tweets:\n",
    "        reader_tweets = csv.reader(tweets)\n",
    "        for row_tweets in reader_tweets:\n",
    "            list_tweets.append(tuple(row_tweets))\n",
    "        list_tweets.pop(0)\n",
    "        #print len(list_tweets)\n",
    "        c.executemany(\"INSERT INTO tweets VALUES (?,?,?,?,?)\", list_tweets)\n",
    "    conn.commit()\n",
    "    \n"
   ]
  },
  {
   "cell_type": "markdown",
   "metadata": {},
   "source": [
    "The function will be called as in the cell below. The cell also contains some test code to display all tables in the database. Tests for the individual tables are added to verify that the data has been loaded properly. (e.g., number of tuples in each table)"
   ]
  },
  {
   "cell_type": "code",
   "execution_count": 3,
   "metadata": {
    "collapsed": false
   },
   "outputs": [
    {
     "name": "stdout",
     "output_type": "stream",
     "text": [
      "('users',)\n",
      "('edges',)\n",
      "('tweets',)\n"
     ]
    }
   ],
   "source": [
    "# AUTOLAB_IGNORE_START\n",
    "# connect to an in memory database\n",
    "conn = sqlite3.connect(\":memory:\")\n",
    "conn.text_factory = str\n",
    "# call to your function\n",
    "load_twitter_data_sqlite3(conn, 'users.csv', 'edges.csv', 'tweets.csv')\n",
    "# make sure to change the path to csv files appropriately\n",
    "cursor = conn.cursor()\n",
    "# prints all tables in the database\n",
    "for row in cursor.execute(\"SELECT name FROM sqlite_master WHERE type = 'table';\"):\n",
    "    print row\n",
    "# AUTOLAB_IGNORE_STOP"
   ]
  },
  {
   "cell_type": "markdown",
   "metadata": {},
   "source": [
    "### Q1. Task B: Trending tweets in a topic\n",
    "Twitter is regarded as an invaluable source of valuable information. Hence, one of the favorite tasks of data miners is the analyse the trending tweets in a given topic.\n",
    "\n",
    "This task requires us to retrieve the top N most trending tweets (in descending order of trending_score) about a given topic (which is a list of keywords). The following information may be useful:\n",
    "\n",
    "- A tweet is said to be about a given topic if it contains any of the given topical phrases/keywords.\n",
    "- We will use the following simple trending_score: retweet_count + favorite_count. Tweets with higher trending_score must be ranked before the ones with lower trending_score.\n",
    "- Your result must contain unique tweets. If a tweet text occurs multiple times, display it only once with its highest trending_score.\n",
    "- Break ties by sorting the tweets in alphabetical order.\n",
    "\n",
    "The output schema should be as follows:\n",
    "\n",
    "|tweet (TEXT)| trending_score (INTEGER) |\n",
    "| :--- |:--- |\n",
    "| | |"
   ]
  },
  {
   "cell_type": "code",
   "execution_count": 4,
   "metadata": {
    "collapsed": true
   },
   "outputs": [],
   "source": [
    "def trending_tweets(cursor, topical_phrases=['Hillary', 'Clinton'], N=5):\n",
    "    \"\"\" Retrieves the top N trending tweets containing one or more of the given topical phrases.\n",
    "    Input:\n",
    "        cursor (sqlite3.Cursor): Cursor object to query the database.\n",
    "        topical_phrases (list of strings): A list of keywords identifying a topic.\n",
    "        N: Number of trending tweets to retrieve\n",
    "    Output:\n",
    "        results (sqlite3.Cursor): Cursor object which can be used to iterate over the retrieved records/tuples.\n",
    "    \"\"\"\n",
    "    query = '''SELECT text, max(retweet_count + favorite_count) AS trending_score FROM tweets\n",
    "             WHERE text LIKE ? '''\n",
    "    for i in range(len(topical_phrases)-1):\n",
    "        query = query + \"OR ? \"\n",
    "    query = query + '''GROUP BY text\n",
    "             ORDER BY (retweet_count + favorite_count) DESC, text ASC\n",
    "             LIMIT ?'''\n",
    "    for i in range(len(topical_phrases)):\n",
    "        topical_phrases[i] = '%' + str(topical_phrases[i]) + '%'\n",
    "    topical_phrases.append(N)\n",
    "    results = cursor.execute(query, topical_phrases)\n",
    "    return results"
   ]
  },
  {
   "cell_type": "markdown",
   "metadata": {},
   "source": [
    "The default inputs to the function will retrieve 5 trending tweets about topic Hillary Clinton. We can view the output of the query using the following code."
   ]
  },
  {
   "cell_type": "code",
   "execution_count": 5,
   "metadata": {
    "collapsed": false
   },
   "outputs": [
    {
     "name": "stdout",
     "output_type": "stream",
     "text": [
      "(\"Hillary just gave a disastrous news conference on the tarmac to make up for poor performance last night. She's being decimated by the media!\", 37903)\n",
      "('\"A rough night for Hillary Clinton\"  ABC News.', 34418)\n",
      "('Hillary Clinton answered email questions differently last night than she has in the past. She is totally confused. Unfit to serve as #POTUS.', 32843)\n",
      "(\"'Donald Trump leads Hillary Clinton by 19 points among military, veteran voters: poll' #AmericaFirst #MAGA\\nhttps://t.co/5FmxGtLkwt\", 29538)\n",
      "(\"It wasn't Matt Lauer that hurt Hillary last night. It was her very dumb answer about emails &amp; the veteran who said she should be in jail.\", 24414)\n"
     ]
    }
   ],
   "source": [
    "# AUTOLAB_IGNORE_START\n",
    "results = trending_tweets(conn.cursor())\n",
    "#results = trending_tweets(conn.cursor(), ['Donald', 'Trump'], 7)\n",
    "for row in results:\n",
    "    print row\n",
    "# AUTOLAB_IGNORE_STOP"
   ]
  },
  {
   "cell_type": "markdown",
   "metadata": {},
   "source": [
    "### Q1. Task C: Tweet recommendation\n",
    "How does Twitter go about populating the feed for a user? While Twitter may use a comple models to do this, in this task, we will use a Simple Tweet Recommender (STR), which recommends a user's tweets to all users who follow him/her (without checking for possible duplicates; i.e., STR may recommend the same tweet twice if two of a user's friends have posted it).\n",
    "\n",
    "In this task, we will write a query to determine the number of tweets recommended to each user. Use only the snapshot of edges and tweets provided to do the recommendation. Report the results on the users present in the users table. (Hint: The number of records in the output should match that in the \"users\" table.) The order of results does not matter.\n",
    "\n",
    "The output schema should be:\n",
    "\n",
    "|screen_name (TEXT)| num_tweets (INTEGER) |\n",
    "| :--- |:--- |\n",
    "| | | |\n"
   ]
  },
  {
   "cell_type": "code",
   "execution_count": 6,
   "metadata": {
    "collapsed": false
   },
   "outputs": [],
   "source": [
    "def num_tweets_in_feed(cursor):\n",
    "    \"\"\" Retrieves the number of tweets STR recommends to each Twitter user.\n",
    "    Input:\n",
    "        cursor (sqlite3.Cursor): Cursor object to query the database.\n",
    "    Output:\n",
    "        results (sqlite3.Cursor): Cursor object which can be used to iterate over the retrieved records/tuples.\n",
    "    \"\"\"\n",
    "    query = ''' WITH tweetsNum (screen_name, tweet_num) AS (\n",
    "                    SELECT screen_name, COUNT(*)\n",
    "                    FROM tweets\n",
    "                    GROUP BY screen_name),\n",
    "                     partialUserTweets (screen_name, rmd_cnt) AS (\n",
    "                    SELECT edges.screen_name, SUM(tweetsNum.tweet_num)\n",
    "                    FROM edges INNER JOIN tweetsNum\n",
    "                    ON edges.friend = tweetsNum.screen_name\n",
    "                    GROUP BY edges.screen_name)\n",
    "                SELECT users.screen_name, IFNULL(partialUserTweets.rmd_cnt, 0) AS num_tweets\n",
    "                FROM users LEFT OUTER JOIN partialUserTweets\n",
    "                ON users.screen_name = partialUserTweets.screen_name\n",
    "                ORDER BY num_tweets DESC; ''' # your query here\n",
    "    return cursor.execute(query)\n",
    "\n",
    "# AUTOLAB_IGNORE_START\n",
    "results = num_tweets_in_feed(conn.cursor())\n",
    "# for row in results:\n",
    "#     print row\n",
    "# AUTOLAB_IGNORE_STOP"
   ]
  },
  {
   "cell_type": "markdown",
   "metadata": {},
   "source": [
    "## Q2. Visualization\n",
    "In this question, we will load all data into pandas dataframes and analyse (and visualize!) some interesting trends using [matplotlib](http://matplotlib.org) python package."
   ]
  },
  {
   "cell_type": "markdown",
   "metadata": {},
   "source": [
    "### Q2. Task A: Load Twitter data using pandas\n",
    "Fill in the following method stub and return the data frames for users, edges and tweets.\n",
    "\n",
    "Pandas will treat missing values as NaNs by default. However, for this task, we treat missing values (i.e., empty strings in the csv files) as empty strings."
   ]
  },
  {
   "cell_type": "code",
   "execution_count": 7,
   "metadata": {
    "collapsed": true
   },
   "outputs": [],
   "source": [
    "import numpy as np\n",
    "def load_twitter_data_pandas(users_filepath, edges_filepath, tweets_filepath):\n",
    "    \"\"\" Loads the Twitter data from the csv files into Pandas dataframes\n",
    "    Input:\n",
    "        users_filepath (str) : absolute/relative path to users.csv file\n",
    "        edges_filepath (str) : absolute/relative path to edges.csv file\n",
    "        tweets_filepath (str) : absolute/relative path to tweets.csv file\n",
    "    Output:\n",
    "        (pd.DataFrame, pd.DataFrame, pd.DataFrame) : A tuple of three dataframes, the first one for users,\n",
    "                                                    the second for edges and the third for tweets.\n",
    "    \"\"\"\n",
    "    df_users = pd.read_csv(users_filepath)\n",
    "    dfu = df_users.replace(np.nan, '', regex=True)\n",
    "    df_edges = pd.read_csv(edges_filepath)\n",
    "    dfe = df_edges.replace(np.nan, '', regex=True)\n",
    "    df_tweets = pd.read_csv(tweets_filepath)\n",
    "    dft = df_tweets.replace(np.nan, '', regex=True)\n",
    "    return (dfu, dfe, dft)\n",
    "    \n"
   ]
  },
  {
   "cell_type": "markdown",
   "metadata": {},
   "source": [
    "We can test the function using the following code."
   ]
  },
  {
   "cell_type": "code",
   "execution_count": 8,
   "metadata": {
    "collapsed": false
   },
   "outputs": [
    {
     "name": "stdout",
     "output_type": "stream",
     "text": [
      "                 name      screen_name      location  \\\n",
      "0     Donald J. Trump  realDonaldTrump  New York, NY   \n",
      "1  Trump Organization            Trump  New York, NY   \n",
      "2          Trump Golf        TrumpGolf                 \n",
      "3       Tiffany Trump    TiffanyATrump                 \n",
      "4      Laura Ingraham    IngrahamAngle            DC   \n",
      "\n",
      "                       created_at  friends_count  followers_count  \\\n",
      "0  Wed Mar 18 13:46:38 +0000 2009             42         11397769   \n",
      "1  Wed Apr 13 16:51:54 +0000 2016             35             9954   \n",
      "2  Mon Feb 03 13:46:03 +0000 2014            200             8797   \n",
      "3  Tue Feb 01 20:59:30 +0000 2011             79            63138   \n",
      "4  Thu Jun 25 21:03:25 +0000 2009            289           851876   \n",
      "\n",
      "   statuses_count  favourites_count  \n",
      "0           33136                38  \n",
      "1              43               125  \n",
      "2             758               251  \n",
      "3             573                28  \n",
      "4           26523                71  \n",
      "       screen_name         friend\n",
      "0  realDonaldTrump          Trump\n",
      "1  realDonaldTrump      TrumpGolf\n",
      "2  realDonaldTrump  TiffanyATrump\n",
      "3  realDonaldTrump  IngrahamAngle\n",
      "4  realDonaldTrump     mike_pence\n",
      "       screen_name                      created_at  retweet_count  \\\n",
      "0  realDonaldTrump  Fri Sep 09 02:00:32 +0000 2016           2859   \n",
      "1  realDonaldTrump  Fri Sep 09 00:39:36 +0000 2016           6463   \n",
      "2  realDonaldTrump  Thu Sep 08 23:56:22 +0000 2016           5405   \n",
      "3  realDonaldTrump  Thu Sep 08 19:52:32 +0000 2016          11633   \n",
      "4  realDonaldTrump  Thu Sep 08 18:17:01 +0000 2016           3824   \n",
      "\n",
      "   favorite_count                                               text  \n",
      "0            7030  Final poll results from NBC on last nights Com...  \n",
      "1           17951  It wasn't Matt Lauer that hurt Hillary last ni...  \n",
      "2           13223  More poll results from last nights Commander-i...  \n",
      "3           27028  Last nights results - in poll taken by NBC. #A...  \n",
      "4           12567  With Luis, Mexico and the United States would ...  \n"
     ]
    }
   ],
   "source": [
    "# AUTOLAB_IGNORE_START\n",
    "(users_df, edges_df, tweets_df) = load_twitter_data_pandas('users.csv', 'edges.csv', 'tweets.csv')\n",
    "# make sure to change the path to csv files appropriately\n",
    "print users_df.head()\n",
    "print edges_df.head()\n",
    "print tweets_df.head()\n",
    "# AUTOLAB_IGNORE_STOP"
   ]
  },
  {
   "cell_type": "markdown",
   "metadata": {},
   "source": [
    "### Q2. Task B: Correlation\n",
    "Statisticians and data analysts usually like to study about correlation between different observed variables. This helps uncover interesting patterns in the data such as causal relationships (e.g., snow on the road leads to increase in number of accidents). Correlation studies are important for multiple reasons:\n",
    "- While [correlation does not imply causation](https://en.wikipedia.org/wiki/Correlation_does_not_imply_causation), a lack of correlation implies a lack of causation. This can be used to rule out many causal relationships.\n",
    "- Correlation helps with prediction. The more closely related two variables are, the easier it is to predict one from the other.\n",
    "\n",
    "In this task, we will plot the friends_count (on y-axis) vs the followers_count (on x-axis) using the matplotlib package. [Here](http://matplotlib.org/examples/shapes_and_collections/scatter_demo.html) is an example to get started with scatter plots."
   ]
  },
  {
   "cell_type": "code",
   "execution_count": null,
   "metadata": {
    "collapsed": false
   },
   "outputs": [
    {
     "name": "stdout",
     "output_type": "stream",
     "text": [
      "<class 'matplotlib.collections.PathCollection'>\n"
     ]
    },
    {
     "data": {
      "image/png": "[encoded data removed]",
      "text/plain": [
       "<matplotlib.figure.Figure at 0x10461c110>"
      ]
     },
     "metadata": {},
     "output_type": "display_data"
    }
   ],
   "source": [
    "import numpy as np\n",
    "def plot_friends_vs_followers(users_df):\n",
    "    \"\"\" Plots the friends_count (on y-axis) against the followers_count (on x-axis).\n",
    "    Input:\n",
    "        users_df (pd.DataFrame) : Dataframe containing Twitter user attributes,\n",
    "                                    as returned by load_twitter_data_pandas()\n",
    "    Output:\n",
    "        (matplotlib.collections.PathCollection) : The object returned by the scatter plot function\n",
    "    \"\"\"\n",
    "    followers_cnt = users_df.loc[:, 'followers_count'].tolist()\n",
    "    friends_cnt = users_df.loc[:, 'friends_count'].tolist()\n",
    "    ff = plt.scatter(followers_cnt, friends_cnt)\n",
    "    print type(ff)\n",
    "    plt.xlabel('Count of Followers')\n",
    "    plt.ylabel('Count of Friends')\n",
    "    return ff\n",
    "\n",
    "# AUTOLAB_IGNORE_START\n",
    "p = plot_friends_vs_followers(users_df)\n",
    "plt.show()\n",
    "# AUTOLAB_IGNORE_STOP"
   ]
  },
  {
   "cell_type": "markdown",
   "metadata": {},
   "source": [
    "Do you see a correlation between these two variables from your scatter plot? Let's measure this quantitatively using the [Pearson's correlation coefficient](https://en.wikipedia.org/wiki/Pearson_product-moment_correlation_coefficient). \n",
    "\n",
    "For a set of observations $(X,Y) = [(x_1,y_1), (x_2,y_2), ... , (x_n,y_n)]$, the Pearson's correlation coefficient is a measure of the linear dependence between two variables $X$ and $Y$, giving a value between +1 and −1 inclusive, where 1 is total positive correlation, 0 is no correlation, and −1 is total negative correlation.\n",
    "\n",
    "$r=r_{xy}={\\frac {n\\sum x_{i}y_{i}-\\sum x_{i}\\sum y_{i}}{{\\sqrt {n\\sum x_{i}^{2}-(\\sum x_{i})^{2}}}~{\\sqrt {n\\sum y_{i}^{2}-(\\sum y_{i})^{2}}}}}$\n",
    "\n",
    "Now, fill in the following function to compute the Pearson's correlation coefficient between friends_count and followers_count."
   ]
  },
  {
   "cell_type": "code",
   "execution_count": null,
   "metadata": {
    "collapsed": false
   },
   "outputs": [],
   "source": [
    "def correlation_coefficient(users_df):\n",
    "    \"\"\" Plots the friends_count (on y-axis) against the followers_count (on x-axis).\n",
    "    Input:\n",
    "        users_df (pd.DataFrame) : Dataframe containing Twitter user attributes,\n",
    "                                    as returned by load_twitter_data_pandas()\n",
    "    Output:\n",
    "        (double) : correlation coefficient between friends_count and followers_count\n",
    "    \"\"\"\n",
    "    n = len(users_df.index)\n",
    "    xy_sum = 0\n",
    "    x_sum = 0\n",
    "    y_sum = 0\n",
    "    xx_sum = 0\n",
    "    yy_sum = 0\n",
    "    \n",
    "    for i in range(n):\n",
    "        xi = users_df.loc[i, 'followers_count']\n",
    "        yi = users_df.loc[i, 'friends_count']\n",
    "        xy_sum = xy_sum + xi * yi\n",
    "        x_sum = x_sum + xi\n",
    "        y_sum = y_sum + yi\n",
    "        xx_sum = xx_sum + (xi ** 2)\n",
    "        yy_sum = yy_sum + (yi ** 2)\n",
    "    \n",
    "    x_sum = float(x_sum)\n",
    "    y_sum = float(y_sum)\n",
    "    xx_sum = float(xx_sum)\n",
    "    yy_sum = float(yy_sum)\n",
    "    xy_sum = float(xy_sum)\n",
    "\n",
    "    r = (n * xy_sum - x_sum * y_sum) / (math.sqrt(n * xx_sum - x_sum ** 2) * math.sqrt(n * yy_sum - y_sum ** 2))\n",
    "    return r\n",
    "\n",
    "# AUTOLAB_IGNORE_START\n",
    "print correlation_coefficient(users_df)\n",
    "# AUTOLAB_IGNORE_STOP"
   ]
  },
  {
   "cell_type": "markdown",
   "metadata": {},
   "source": [
    "### Q2. Task C: Degree distribution\n",
    "\n",
    "In graph theory, the degree of a node is the number of connections it has to other nodes. A common statistic to look out for in the case of real world graphs is the degree distribution. Literature says degrees of nodes in real world graphs follow a [power law distribution](https://en.wikipedia.org/wiki/Power_law). The implication is that a scatter plot of num_users versus k (as we will define below) yields an almost straight line. In this task, we shall verify whether the given crawl of Twitter network satisfies this property.\n",
    "\n",
    "Let us call the number of friends a Twitter user has as his/her degree. The degree distribution is a histogram of the number of friends. Our task is to visualize this histogram. Use the default number of bins."
   ]
  },
  {
   "cell_type": "code",
   "execution_count": null,
   "metadata": {
    "collapsed": false
   },
   "outputs": [],
   "source": [
    "def degree_distribution(edges_df):\n",
    "    \"\"\" Plots the distribution of .\n",
    "    Input:\n",
    "        edges_df (pd.DataFrame) : Dataframe containing Twitter edges,\n",
    "                        as returned by load_twitter_data_pandas()\n",
    "    Output:\n",
    "        (array, array, list of Patch objects) : Tuple of the values of the histogram bins, \n",
    "                        the edges of the bins and the silent list of individual patches used to create the histogram.\n",
    "    \"\"\"\n",
    "    cnt_df = edges_df.groupby(['screen_name']).size()\n",
    "    friends_num = cnt_df.tolist()\n",
    "    (n, bins, patches) = plt.hist(friends_num)\n",
    "    return (n, bins, patches)\n",
    "\n",
    "# AUTOLAB_IGNORE_START\n",
    "degree_distribution(edges_df)\n",
    "# AUTOLAB_IGNORE_STOP"
   ]
  },
  {
   "cell_type": "markdown",
   "metadata": {},
   "source": [
    "## Author: Hexing Ren\n",
    "### Click [here](http://www.hexingren.com/practical-data-science) to go back."
   ]
  }
 ],
 "metadata": {
  "anaconda-cloud": {},
  "kernelspec": {
   "display_name": "Python [conda root]",
   "language": "python",
   "name": "conda-root-py"
  },
  "language_info": {
   "codemirror_mode": {
    "name": "ipython",
    "version": 2
   },
   "file_extension": ".py",
   "mimetype": "text/x-python",
   "name": "python",
   "nbconvert_exporter": "python",
   "pygments_lexer": "ipython2",
   "version": "2.7.12"
  }
 },
 "nbformat": 4,
 "nbformat_minor": 0
}
